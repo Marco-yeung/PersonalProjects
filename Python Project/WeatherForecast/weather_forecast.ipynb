{
 "cells": [
  {
   "cell_type": "code",
   "execution_count": 20,
   "metadata": {},
   "outputs": [],
   "source": [
    "import requests\n",
    "import pandas as pd\n",
    "import pprint\n",
    "\n",
    "url = 'https://data.weather.gov.hk/weatherAPI/opendata/weather.php?dataType=fnd&lang=en'\n",
    "data = requests.get(url)\n",
    "data_json = data.json()"
   ]
  },
  {
   "cell_type": "code",
   "execution_count": 22,
   "metadata": {},
   "outputs": [
    {
     "name": "stdout",
     "output_type": "stream",
     "text": [
      "[{'ForecastIcon': 53,\n",
      "  'PSR': 'Low',\n",
      "  'forecastDate': '20240623',\n",
      "  'forecastMaxrh': {'unit': 'percent', 'value': 90},\n",
      "  'forecastMaxtemp': {'unit': 'C', 'value': 33},\n",
      "  'forecastMinrh': {'unit': 'percent', 'value': 65},\n",
      "  'forecastMintemp': {'unit': 'C', 'value': 28},\n",
      "  'forecastWeather': 'Sunny periods and a few showers. Very hot during the '\n",
      "                     'day.',\n",
      "  'forecastWind': 'South to southeast force 3 to 4.',\n",
      "  'week': 'Sunday'},\n",
      " {'ForecastIcon': 54,\n",
      "  'PSR': 'Medium',\n",
      "  'forecastDate': '20240624',\n",
      "  'forecastMaxrh': {'unit': 'percent', 'value': 95},\n",
      "  'forecastMaxtemp': {'unit': 'C', 'value': 32},\n",
      "  'forecastMinrh': {'unit': 'percent', 'value': 70},\n",
      "  'forecastMintemp': {'unit': 'C', 'value': 27},\n",
      "  'forecastWeather': 'Mainly cloudy with a few showers. Sunny intervals during '\n",
      "                     'the day. A few squally thunderstorms later.',\n",
      "  'forecastWind': 'South to southeast force 4 to 5, occasionally force 6 on '\n",
      "                  'high ground.',\n",
      "  'week': 'Monday'},\n",
      " {'ForecastIcon': 63,\n",
      "  'PSR': 'Medium High',\n",
      "  'forecastDate': '20240625',\n",
      "  'forecastMaxrh': {'unit': 'percent', 'value': 95},\n",
      "  'forecastMaxtemp': {'unit': 'C', 'value': 31},\n",
      "  'forecastMinrh': {'unit': 'percent', 'value': 75},\n",
      "  'forecastMintemp': {'unit': 'C', 'value': 27},\n",
      "  'forecastWeather': 'Mainly cloudy with occasional showers and a few squally '\n",
      "                     'thunderstorms.',\n",
      "  'forecastWind': 'Southeast force 4 to 5, occasionally force 6 on high '\n",
      "                  'ground.',\n",
      "  'week': 'Tuesday'},\n",
      " {'ForecastIcon': 62,\n",
      "  'PSR': 'Medium',\n",
      "  'forecastDate': '20240626',\n",
      "  'forecastMaxrh': {'unit': 'percent', 'value': 95},\n",
      "  'forecastMaxtemp': {'unit': 'C', 'value': 32},\n",
      "  'forecastMinrh': {'unit': 'percent', 'value': 70},\n",
      "  'forecastMintemp': {'unit': 'C', 'value': 27},\n",
      "  'forecastWeather': 'Mainly cloudy with a few showers and isolated '\n",
      "                     'thunderstorms.',\n",
      "  'forecastWind': 'Southeast force 4 to 5.',\n",
      "  'week': 'Wednesday'},\n",
      " {'ForecastIcon': 54,\n",
      "  'PSR': 'Low',\n",
      "  'forecastDate': '20240627',\n",
      "  'forecastMaxrh': {'unit': 'percent', 'value': 95},\n",
      "  'forecastMaxtemp': {'unit': 'C', 'value': 32},\n",
      "  'forecastMinrh': {'unit': 'percent', 'value': 70},\n",
      "  'forecastMintemp': {'unit': 'C', 'value': 27},\n",
      "  'forecastWeather': 'Sunny intervals and a few showers.',\n",
      "  'forecastWind': 'Southeast force 3 to 4.',\n",
      "  'week': 'Thursday'},\n",
      " {'ForecastIcon': 53,\n",
      "  'PSR': 'Low',\n",
      "  'forecastDate': '20240628',\n",
      "  'forecastMaxrh': {'unit': 'percent', 'value': 90},\n",
      "  'forecastMaxtemp': {'unit': 'C', 'value': 33},\n",
      "  'forecastMinrh': {'unit': 'percent', 'value': 65},\n",
      "  'forecastMintemp': {'unit': 'C', 'value': 28},\n",
      "  'forecastWeather': 'Sunny periods and one or two showers. Very hot during '\n",
      "                     'the day.',\n",
      "  'forecastWind': 'South to southeast force 4.',\n",
      "  'week': 'Friday'},\n",
      " {'ForecastIcon': 53,\n",
      "  'PSR': 'Low',\n",
      "  'forecastDate': '20240629',\n",
      "  'forecastMaxrh': {'unit': 'percent', 'value': 90},\n",
      "  'forecastMaxtemp': {'unit': 'C', 'value': 33},\n",
      "  'forecastMinrh': {'unit': 'percent', 'value': 65},\n",
      "  'forecastMintemp': {'unit': 'C', 'value': 28},\n",
      "  'forecastWeather': 'Sunny periods and a few showers. Very hot during the '\n",
      "                     'day.',\n",
      "  'forecastWind': 'South to southwest force 4, occasionally force 5.',\n",
      "  'week': 'Saturday'},\n",
      " {'ForecastIcon': 54,\n",
      "  'PSR': 'Medium Low',\n",
      "  'forecastDate': '20240630',\n",
      "  'forecastMaxrh': {'unit': 'percent', 'value': 95},\n",
      "  'forecastMaxtemp': {'unit': 'C', 'value': 32},\n",
      "  'forecastMinrh': {'unit': 'percent', 'value': 75},\n",
      "  'forecastMintemp': {'unit': 'C', 'value': 28},\n",
      "  'forecastWeather': 'Sunny intervals and a few showers.',\n",
      "  'forecastWind': 'South to southwest force 4, occasionally force 5.',\n",
      "  'week': 'Sunday'},\n",
      " {'ForecastIcon': 54,\n",
      "  'PSR': 'Medium Low',\n",
      "  'forecastDate': '20240701',\n",
      "  'forecastMaxrh': {'unit': 'percent', 'value': 95},\n",
      "  'forecastMaxtemp': {'unit': 'C', 'value': 32},\n",
      "  'forecastMinrh': {'unit': 'percent', 'value': 75},\n",
      "  'forecastMintemp': {'unit': 'C', 'value': 28},\n",
      "  'forecastWeather': 'Mainly cloudy with a few showers. Sunny intervals during '\n",
      "                     'the day.',\n",
      "  'forecastWind': 'South to southwest force 4, occasionally force 5.',\n",
      "  'week': 'Monday'}]\n"
     ]
    }
   ],
   "source": [
    "pprint.pprint(data_json['weatherForecast'])"
   ]
  },
  {
   "cell_type": "code",
   "execution_count": 23,
   "metadata": {},
   "outputs": [],
   "source": [
    "data_json_weather = data_json['weatherForecast']"
   ]
  },
  {
   "cell_type": "code",
   "execution_count": 24,
   "metadata": {},
   "outputs": [
    {
     "data": {
      "text/plain": [
       "[{'forecastDate': '20240623',\n",
       "  'week': 'Sunday',\n",
       "  'forecastWind': 'South to southeast force 3 to 4.',\n",
       "  'forecastWeather': 'Sunny periods and a few showers. Very hot during the day.',\n",
       "  'forecastMaxtemp': {'value': 33, 'unit': 'C'},\n",
       "  'forecastMintemp': {'value': 28, 'unit': 'C'},\n",
       "  'forecastMaxrh': {'value': 90, 'unit': 'percent'},\n",
       "  'forecastMinrh': {'value': 65, 'unit': 'percent'},\n",
       "  'ForecastIcon': 53,\n",
       "  'PSR': 'Low'},\n",
       " {'forecastDate': '20240624',\n",
       "  'week': 'Monday',\n",
       "  'forecastWind': 'South to southeast force 4 to 5, occasionally force 6 on high ground.',\n",
       "  'forecastWeather': 'Mainly cloudy with a few showers. Sunny intervals during the day. A few squally thunderstorms later.',\n",
       "  'forecastMaxtemp': {'value': 32, 'unit': 'C'},\n",
       "  'forecastMintemp': {'value': 27, 'unit': 'C'},\n",
       "  'forecastMaxrh': {'value': 95, 'unit': 'percent'},\n",
       "  'forecastMinrh': {'value': 70, 'unit': 'percent'},\n",
       "  'ForecastIcon': 54,\n",
       "  'PSR': 'Medium'},\n",
       " {'forecastDate': '20240625',\n",
       "  'week': 'Tuesday',\n",
       "  'forecastWind': 'Southeast force 4 to 5, occasionally force 6 on high ground.',\n",
       "  'forecastWeather': 'Mainly cloudy with occasional showers and a few squally thunderstorms.',\n",
       "  'forecastMaxtemp': {'value': 31, 'unit': 'C'},\n",
       "  'forecastMintemp': {'value': 27, 'unit': 'C'},\n",
       "  'forecastMaxrh': {'value': 95, 'unit': 'percent'},\n",
       "  'forecastMinrh': {'value': 75, 'unit': 'percent'},\n",
       "  'ForecastIcon': 63,\n",
       "  'PSR': 'Medium High'},\n",
       " {'forecastDate': '20240626',\n",
       "  'week': 'Wednesday',\n",
       "  'forecastWind': 'Southeast force 4 to 5.',\n",
       "  'forecastWeather': 'Mainly cloudy with a few showers and isolated thunderstorms.',\n",
       "  'forecastMaxtemp': {'value': 32, 'unit': 'C'},\n",
       "  'forecastMintemp': {'value': 27, 'unit': 'C'},\n",
       "  'forecastMaxrh': {'value': 95, 'unit': 'percent'},\n",
       "  'forecastMinrh': {'value': 70, 'unit': 'percent'},\n",
       "  'ForecastIcon': 62,\n",
       "  'PSR': 'Medium'},\n",
       " {'forecastDate': '20240627',\n",
       "  'week': 'Thursday',\n",
       "  'forecastWind': 'Southeast force 3 to 4.',\n",
       "  'forecastWeather': 'Sunny intervals and a few showers.',\n",
       "  'forecastMaxtemp': {'value': 32, 'unit': 'C'},\n",
       "  'forecastMintemp': {'value': 27, 'unit': 'C'},\n",
       "  'forecastMaxrh': {'value': 95, 'unit': 'percent'},\n",
       "  'forecastMinrh': {'value': 70, 'unit': 'percent'},\n",
       "  'ForecastIcon': 54,\n",
       "  'PSR': 'Low'},\n",
       " {'forecastDate': '20240628',\n",
       "  'week': 'Friday',\n",
       "  'forecastWind': 'South to southeast force 4.',\n",
       "  'forecastWeather': 'Sunny periods and one or two showers. Very hot during the day.',\n",
       "  'forecastMaxtemp': {'value': 33, 'unit': 'C'},\n",
       "  'forecastMintemp': {'value': 28, 'unit': 'C'},\n",
       "  'forecastMaxrh': {'value': 90, 'unit': 'percent'},\n",
       "  'forecastMinrh': {'value': 65, 'unit': 'percent'},\n",
       "  'ForecastIcon': 53,\n",
       "  'PSR': 'Low'},\n",
       " {'forecastDate': '20240629',\n",
       "  'week': 'Saturday',\n",
       "  'forecastWind': 'South to southwest force 4, occasionally force 5.',\n",
       "  'forecastWeather': 'Sunny periods and a few showers. Very hot during the day.',\n",
       "  'forecastMaxtemp': {'value': 33, 'unit': 'C'},\n",
       "  'forecastMintemp': {'value': 28, 'unit': 'C'},\n",
       "  'forecastMaxrh': {'value': 90, 'unit': 'percent'},\n",
       "  'forecastMinrh': {'value': 65, 'unit': 'percent'},\n",
       "  'ForecastIcon': 53,\n",
       "  'PSR': 'Low'},\n",
       " {'forecastDate': '20240630',\n",
       "  'week': 'Sunday',\n",
       "  'forecastWind': 'South to southwest force 4, occasionally force 5.',\n",
       "  'forecastWeather': 'Sunny intervals and a few showers.',\n",
       "  'forecastMaxtemp': {'value': 32, 'unit': 'C'},\n",
       "  'forecastMintemp': {'value': 28, 'unit': 'C'},\n",
       "  'forecastMaxrh': {'value': 95, 'unit': 'percent'},\n",
       "  'forecastMinrh': {'value': 75, 'unit': 'percent'},\n",
       "  'ForecastIcon': 54,\n",
       "  'PSR': 'Medium Low'},\n",
       " {'forecastDate': '20240701',\n",
       "  'week': 'Monday',\n",
       "  'forecastWind': 'South to southwest force 4, occasionally force 5.',\n",
       "  'forecastWeather': 'Mainly cloudy with a few showers. Sunny intervals during the day.',\n",
       "  'forecastMaxtemp': {'value': 32, 'unit': 'C'},\n",
       "  'forecastMintemp': {'value': 28, 'unit': 'C'},\n",
       "  'forecastMaxrh': {'value': 95, 'unit': 'percent'},\n",
       "  'forecastMinrh': {'value': 75, 'unit': 'percent'},\n",
       "  'ForecastIcon': 54,\n",
       "  'PSR': 'Medium Low'}]"
      ]
     },
     "execution_count": 24,
     "metadata": {},
     "output_type": "execute_result"
    }
   ],
   "source": [
    "data_json_weather"
   ]
  },
  {
   "cell_type": "code",
   "execution_count": 6,
   "metadata": {},
   "outputs": [
    {
     "data": {
      "text/html": [
       "<div>\n",
       "<style scoped>\n",
       "    .dataframe tbody tr th:only-of-type {\n",
       "        vertical-align: middle;\n",
       "    }\n",
       "\n",
       "    .dataframe tbody tr th {\n",
       "        vertical-align: top;\n",
       "    }\n",
       "\n",
       "    .dataframe thead th {\n",
       "        text-align: right;\n",
       "    }\n",
       "</style>\n",
       "<table border=\"1\" class=\"dataframe\">\n",
       "  <thead>\n",
       "    <tr style=\"text-align: right;\">\n",
       "      <th></th>\n",
       "      <th>value</th>\n",
       "      <th>unit</th>\n",
       "    </tr>\n",
       "  </thead>\n",
       "  <tbody>\n",
       "    <tr>\n",
       "      <th>0</th>\n",
       "      <td>90</td>\n",
       "      <td>percent</td>\n",
       "    </tr>\n",
       "    <tr>\n",
       "      <th>1</th>\n",
       "      <td>95</td>\n",
       "      <td>percent</td>\n",
       "    </tr>\n",
       "    <tr>\n",
       "      <th>2</th>\n",
       "      <td>95</td>\n",
       "      <td>percent</td>\n",
       "    </tr>\n",
       "    <tr>\n",
       "      <th>3</th>\n",
       "      <td>95</td>\n",
       "      <td>percent</td>\n",
       "    </tr>\n",
       "    <tr>\n",
       "      <th>4</th>\n",
       "      <td>95</td>\n",
       "      <td>percent</td>\n",
       "    </tr>\n",
       "    <tr>\n",
       "      <th>5</th>\n",
       "      <td>90</td>\n",
       "      <td>percent</td>\n",
       "    </tr>\n",
       "    <tr>\n",
       "      <th>6</th>\n",
       "      <td>90</td>\n",
       "      <td>percent</td>\n",
       "    </tr>\n",
       "    <tr>\n",
       "      <th>7</th>\n",
       "      <td>95</td>\n",
       "      <td>percent</td>\n",
       "    </tr>\n",
       "    <tr>\n",
       "      <th>8</th>\n",
       "      <td>95</td>\n",
       "      <td>percent</td>\n",
       "    </tr>\n",
       "  </tbody>\n",
       "</table>\n",
       "</div>"
      ],
      "text/plain": [
       "   value     unit\n",
       "0     90  percent\n",
       "1     95  percent\n",
       "2     95  percent\n",
       "3     95  percent\n",
       "4     95  percent\n",
       "5     90  percent\n",
       "6     90  percent\n",
       "7     95  percent\n",
       "8     95  percent"
      ]
     },
     "execution_count": 6,
     "metadata": {},
     "output_type": "execute_result"
    }
   ],
   "source": [
    "# df = pd.DataFrame(data_json['weatherForecast'])\n",
    "# df\n",
    "# # dataframe format to handle if value contain a large bracket data, can break it in this way\n",
    "# df['forecastMaxrh'].apply(lambda x: pd.Series(x))\n",
    "# df['forecastMaxrh'].apply(pd.Series)\n",
    "# df[['forecastMaxtemp_value', 'forecastMaxtemp_unit']] = df['forecastMaxtemp'].apply(pd.Series)\n",
    "# df[['forecastMintemp_value', 'forecastMintemp_unit']] = df['forecastMintemp'].apply(pd.Series)\n",
    "# df[['forecastMaxrh_value', 'forecastMaxrh_unit']] = df['forecastMaxrh'].apply(pd.Series)\n",
    "# df[['forecastMinrh_value', 'forecastMinrh_unit']] = df['forecastMinrh'].apply(pd.Series)\n",
    "# df_filtered = df.loc[:, ~df.columns.isin(['forecastMaxtemp', 'forecastMintemp', 'forecastMaxrh', 'forecastMinrh'])]\n",
    "# df_filtered"
   ]
  },
  {
   "cell_type": "code",
   "execution_count": 39,
   "metadata": {},
   "outputs": [],
   "source": [
    "date = '20240626'"
   ]
  },
  {
   "cell_type": "code",
   "execution_count": 28,
   "metadata": {},
   "outputs": [
    {
     "data": {
      "text/plain": [
       "'20240623'"
      ]
     },
     "execution_count": 28,
     "metadata": {},
     "output_type": "execute_result"
    }
   ],
   "source": [
    "data_json_weather[0]['forecastDate']"
   ]
  },
  {
   "cell_type": "code",
   "execution_count": 29,
   "metadata": {},
   "outputs": [
    {
     "data": {
      "text/plain": [
       "9"
      ]
     },
     "execution_count": 29,
     "metadata": {},
     "output_type": "execute_result"
    }
   ],
   "source": [
    "len(data_json_weather)"
   ]
  },
  {
   "cell_type": "code",
   "execution_count": 40,
   "metadata": {},
   "outputs": [],
   "source": [
    "for i in range(0,len(data_json_weather)):\n",
    "    json = data_json_weather[i]\n",
    "    if json['forecastDate'] == date:\n",
    "        json_chosen = json\n",
    "        \n",
    "    "
   ]
  },
  {
   "cell_type": "code",
   "execution_count": 41,
   "metadata": {},
   "outputs": [
    {
     "data": {
      "text/plain": [
       "{'forecastDate': '20240626',\n",
       " 'week': 'Wednesday',\n",
       " 'forecastWind': 'Southeast force 4 to 5.',\n",
       " 'forecastWeather': 'Mainly cloudy with a few showers and isolated thunderstorms.',\n",
       " 'forecastMaxtemp': {'value': 32, 'unit': 'C'},\n",
       " 'forecastMintemp': {'value': 27, 'unit': 'C'},\n",
       " 'forecastMaxrh': {'value': 95, 'unit': 'percent'},\n",
       " 'forecastMinrh': {'value': 70, 'unit': 'percent'},\n",
       " 'ForecastIcon': 62,\n",
       " 'PSR': 'Medium'}"
      ]
     },
     "execution_count": 41,
     "metadata": {},
     "output_type": "execute_result"
    }
   ],
   "source": [
    "json_chosen"
   ]
  },
  {
   "cell_type": "code",
   "execution_count": 42,
   "metadata": {},
   "outputs": [
    {
     "data": {
      "text/plain": [
       "'Mainly cloudy with a few showers and isolated thunderstorms.'"
      ]
     },
     "execution_count": 42,
     "metadata": {},
     "output_type": "execute_result"
    }
   ],
   "source": [
    "json_chosen['forecastWeather']"
   ]
  },
  {
   "cell_type": "code",
   "execution_count": 43,
   "metadata": {},
   "outputs": [
    {
     "data": {
      "text/plain": [
       "32"
      ]
     },
     "execution_count": 43,
     "metadata": {},
     "output_type": "execute_result"
    }
   ],
   "source": [
    "json_chosen['forecastMaxtemp']['value']"
   ]
  },
  {
   "cell_type": "code",
   "execution_count": null,
   "metadata": {},
   "outputs": [],
   "source": []
  }
 ],
 "metadata": {
  "kernelspec": {
   "display_name": "Python 3",
   "language": "python",
   "name": "python3"
  },
  "language_info": {
   "codemirror_mode": {
    "name": "ipython",
    "version": 3
   },
   "file_extension": ".py",
   "mimetype": "text/x-python",
   "name": "python",
   "nbconvert_exporter": "python",
   "pygments_lexer": "ipython3",
   "version": "3.12.1"
  }
 },
 "nbformat": 4,
 "nbformat_minor": 2
}
