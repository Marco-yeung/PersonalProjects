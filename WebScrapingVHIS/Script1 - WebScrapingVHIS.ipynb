{
 "cells": [
  {
   "cell_type": "code",
   "execution_count": 1,
   "metadata": {},
   "outputs": [
    {
     "name": "stderr",
     "output_type": "stream",
     "text": [
      "C:\\Users\\shuto\\AppData\\Local\\Temp\\ipykernel_30048\\298930648.py:1: DeprecationWarning: \n",
      "Pyarrow will become a required dependency of pandas in the next major release of pandas (pandas 3.0),\n",
      "(to allow more performant data types, such as the Arrow string type, and better interoperability with other libraries)\n",
      "but was not found to be installed on your system.\n",
      "If this would cause problems for you,\n",
      "please provide us feedback at https://github.com/pandas-dev/pandas/issues/54466\n",
      "        \n",
      "  import pandas as pd\n"
     ]
    }
   ],
   "source": [
    "import pandas as pd\n",
    "from selenium import webdriver\n",
    "from selenium.webdriver.common.by import By\n",
    "\n"
   ]
  },
  {
   "cell_type": "code",
   "execution_count": null,
   "metadata": {},
   "outputs": [],
   "source": [
    "\"\"\"\n",
    "table_header = driver.find_element(By.CLASS_NAME, \"table-header\")\n",
    "# store table header as a list\n",
    "table_header = table_header.find_elements(By.CLASS_NAME, \"item__text\")\n",
    "\n",
    "\n",
    "driver.quit()\n",
    "\n",
    "url = \"https://www.vhis.gov.hk/en/consumer_corner/flexi-plan.html\"\n",
    "driver = webdriver.Chrome()\n",
    "driver.get(url)\n",
    "\n",
    "plan = driver.find_element(By.CLASS_NAME, 'table-body-wrapper')\n",
    "# Plan Information\n",
    "plan_name = plan.find_element(By.CSS_SELECTOR, 'div.table-body-item--plan')\n",
    "plan_name = plan_name.find_element(By.TAG_NAME, \"span\")\n",
    "plan_name = plan_name.text.strip()\n",
    "print(plan_name)\n",
    "\n",
    "driver.quit()\n",
    "\n",
    "url = \"https://www.vhis.gov.hk/en/consumer_corner/flexi-plan.html\"\n",
    "driver = webdriver.Chrome()\n",
    "driver.get(url)\n",
    "\n",
    "plan = driver.find_element(By.CLASS_NAME, 'table-body-wrapper')\n",
    "# company Information\n",
    "company_name = plan.find_element(By.CSS_SELECTOR, 'div.table-body-item--offer-company')\n",
    "company_name = company_name.find_element(By.TAG_NAME, \"span\")\n",
    "company_name = company_name.text.strip()\n",
    "print(company_name)\n",
    "\n",
    "\"\"\""
   ]
  },
  {
   "cell_type": "code",
   "execution_count": 16,
   "metadata": {},
   "outputs": [
    {
     "name": "stdout",
     "output_type": "stream",
     "text": [
      "15 July 2023\n"
     ]
    }
   ],
   "source": [
    "url = \"https://www.vhis.gov.hk/en/consumer_corner/flexi-plan.html\"\n",
    "driver = webdriver.Chrome()\n",
    "driver.get(url)\n",
    "latest_date = driver.find_element(By.CLASS_NAME, 'table-body-item--plan-date-no')\n",
    "latest_date = latest_date.find_elements(By.TAG_NAME, \"span\")\n",
    "\n",
    "print(latest_date[1].text.strip())\n",
    "driver.quit()"
   ]
  },
  {
   "cell_type": "code",
   "execution_count": null,
   "metadata": {},
   "outputs": [],
   "source": []
  },
  {
   "cell_type": "code",
   "execution_count": null,
   "metadata": {},
   "outputs": [],
   "source": []
  },
  {
   "cell_type": "code",
   "execution_count": null,
   "metadata": {},
   "outputs": [],
   "source": []
  },
  {
   "cell_type": "code",
   "execution_count": null,
   "metadata": {},
   "outputs": [],
   "source": []
  }
 ],
 "metadata": {
  "kernelspec": {
   "display_name": "Python 3",
   "language": "python",
   "name": "python3"
  },
  "language_info": {
   "codemirror_mode": {
    "name": "ipython",
    "version": 3
   },
   "file_extension": ".py",
   "mimetype": "text/x-python",
   "name": "python",
   "nbconvert_exporter": "python",
   "pygments_lexer": "ipython3",
   "version": "3.12.1"
  }
 },
 "nbformat": 4,
 "nbformat_minor": 2
}
